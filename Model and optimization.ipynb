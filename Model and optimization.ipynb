{
 "cells": [
  {
   "cell_type": "code",
   "execution_count": 26,
   "id": "62573ac7",
   "metadata": {},
   "outputs": [],
   "source": [
    "# Import necessary libraries\n",
    "from sklearn.model_selection import GridSearchCV\n",
    "from sklearn.metrics import accuracy_score, mean_absolute_error\n",
    "from sklearn.base import BaseEstimator\n",
    "from sklearn.metrics import accuracy_score, roc_auc_score, precision_score, mean_absolute_error\n",
    "\n",
    "\n",
    "\n",
    "class ModelOptimization(BaseEstimator):\n",
    "    def __init__(self, models, param_grids, scoring, cv=5, top_n=3, random_search = 0):\n",
    "        self.models = models\n",
    "        self.param_grids = param_grids\n",
    "        self.scoring = scoring\n",
    "        self.cv = cv\n",
    "        self.top_n = top_n\n",
    "        self.random_search = random_search\n",
    "        self.best_models = []\n",
    "\n",
    "    def fit(self, X, y):\n",
    "        all_scores = {}\n",
    "        for i, model in enumerate(self.models):\n",
    "            print(f\"Fitting model {i+1}/{len(self.models)}: {type(model).__name__}\")\n",
    "            model.fit(X, y)\n",
    "            y_pred = model.predict(X)\n",
    "\n",
    "            if self.scoring == 'accuracy':\n",
    "                score = accuracy_score(y, y_pred)\n",
    "            elif self.scoring == 'roc_auc':\n",
    "                if len(set(y)) > 2:  # Multi-class classification\n",
    "                    score = roc_auc_score(y, model.predict_proba(X), multi_class='ovr', average='macro')\n",
    "                else:  # Binary classification\n",
    "                    score = roc_auc_score(y, y_pred)\n",
    "            elif self.scoring == 'precision':\n",
    "                score = precision_score(y, y_pred, average='macro')\n",
    "            elif self.scoring == 'mae':\n",
    "                score = -mean_absolute_error(y, y_pred)  # Minimize the MAE, so we add a negative sign\n",
    "            else:\n",
    "                raise ValueError(f\"Invalid scoring metric: {self.scoring}\")\n",
    "\n",
    "            all_scores[type(model).__name__] = score\n",
    "\n",
    "        # Select the \"top N\" models based on the scores\n",
    "        top_models = sorted(all_scores.items(), key=lambda x: x[1], reverse=True)[:self.top_n]\n",
    "        top_model_names = [model[0] for model in top_models]\n",
    "\n",
    "        print(\"\\nModel ranking based on scores:\")\n",
    "        for rank, (model_name, score) in enumerate(top_models, 1):\n",
    "            print(f\"Rank {rank}: {model_name} - Score: {score:.4f}\")\n",
    "        print('\\n\\n')\n",
    "        # Perform GridSearchCV only on the top N models\n",
    "        best_scores = {}\n",
    "        for model_name in top_model_names:\n",
    "            model_index = [i for i, model in enumerate(self.models) if type(model).__name__ == model_name][0]\n",
    "            model = self.models[model_index]\n",
    "            print(f\"Optimizing hyperparameters for model {model_name}\")\n",
    "            if self.random_search == 0:,
    "                grid_search = GridSearchCV(model, self.param_grids[model_index], scoring=self.scoring, cv=self.cv, n_jobs=-1)\n",
    "            else:,
    "                grid_search = RandomizedSearchCV(model, self.param_grids[model_index], scoring=self.scoring, cv=self.cv, n_jobs=-1),
    "            grid_search.fit(X, y)\n",
    "            best_model = grid_search.best_estimator_\n",
    "            best_score = grid_search.best_score_\n",
    "\n",
    "            print(f\"Best score for {model_name}: {best_score:.4f}\")\n",
    "\n",
    "            best_scores[model_name] = best_score\n",
    "            self.best_models.append(best_model)\n",
    "\n",
    "        return self\n",
    "\n",
    "    def predict(self, X):\n",
    "        predictions = {}\n",
    "        for model in self.best_models:\n",
    "            model_name = type(model).__name__\n",
    "            y_pred = model.predict(X)\n",
    "            predictions[model_name] = y_pred\n",
    "\n",
    "        return predictions"
   ]
  },
  {
   "cell_type": "code",
   "execution_count": 27,
   "id": "0322bda8",
   "metadata": {},
   "outputs": [
    {
     "name": "stderr",
     "output_type": "stream",
     "text": [
      "2023-08-02 12:40:44,437 [4624] WARNING  py.warnings:109: [JupyterRequire] C:\\Users\\guief\\anaconda3\\lib\\site-packages\\sklearn\\linear_model\\_logistic.py:814: ConvergenceWarning: lbfgs failed to converge (status=1):\n",
      "STOP: TOTAL NO. of ITERATIONS REACHED LIMIT.\n",
      "\n",
      "Increase the number of iterations (max_iter) or scale the data as shown in:\n",
      "    https://scikit-learn.org/stable/modules/preprocessing.html\n",
      "Please also refer to the documentation for alternative solver options:\n",
      "    https://scikit-learn.org/stable/modules/linear_model.html#logistic-regression\n",
      "  n_iter_i = _check_optimize_result(\n",
      "\n"
     ]
    },
    {
     "name": "stdout",
     "output_type": "stream",
     "text": [
      "Fitting model 1/3: LogisticRegression\n",
      "Fitting model 2/3: RandomForestClassifier\n",
      "Fitting model 3/3: GradientBoostingClassifier\n",
      "\n",
      "Model ranking based on scores:\n",
      "Rank 1: RandomForestClassifier - Score: 1.0000\n",
      "Rank 2: GradientBoostingClassifier - Score: 1.0000\n",
      "Rank 3: LogisticRegression - Score: 0.9733\n",
      "\n",
      "\n",
      "\n",
      "Optimizing hyperparameters for model RandomForestClassifier\n",
      "Best score for RandomForestClassifier: 0.9667\n",
      "Optimizing hyperparameters for model GradientBoostingClassifier\n",
      "Best score for GradientBoostingClassifier: 0.9667\n",
      "Optimizing hyperparameters for model LogisticRegression\n"
     ]
    },
    {
     "name": "stderr",
     "output_type": "stream",
     "text": [
      "2023-08-02 12:40:55,085 [4624] WARNING  py.warnings:109: [JupyterRequire] C:\\Users\\guief\\anaconda3\\lib\\site-packages\\sklearn\\linear_model\\_logistic.py:814: ConvergenceWarning: lbfgs failed to converge (status=1):\n",
      "STOP: TOTAL NO. of ITERATIONS REACHED LIMIT.\n",
      "\n",
      "Increase the number of iterations (max_iter) or scale the data as shown in:\n",
      "    https://scikit-learn.org/stable/modules/preprocessing.html\n",
      "Please also refer to the documentation for alternative solver options:\n",
      "    https://scikit-learn.org/stable/modules/linear_model.html#logistic-regression\n",
      "  n_iter_i = _check_optimize_result(\n",
      "\n",
      "2023-08-02 12:40:55,154 [4624] WARNING  py.warnings:109: [JupyterRequire] C:\\Users\\guief\\anaconda3\\lib\\site-packages\\sklearn\\linear_model\\_logistic.py:814: ConvergenceWarning: lbfgs failed to converge (status=1):\n",
      "STOP: TOTAL NO. of ITERATIONS REACHED LIMIT.\n",
      "\n",
      "Increase the number of iterations (max_iter) or scale the data as shown in:\n",
      "    https://scikit-learn.org/stable/modules/preprocessing.html\n",
      "Please also refer to the documentation for alternative solver options:\n",
      "    https://scikit-learn.org/stable/modules/linear_model.html#logistic-regression\n",
      "  n_iter_i = _check_optimize_result(\n",
      "\n"
     ]
    },
    {
     "name": "stdout",
     "output_type": "stream",
     "text": [
      "Best score for LogisticRegression: 0.9800\n",
      "Fitting model 1/3: LogisticRegression\n",
      "Fitting model 2/3: RandomForestClassifier\n",
      "Fitting model 3/3: GradientBoostingClassifier\n",
      "\n",
      "Model ranking based on scores:\n",
      "Rank 1: RandomForestClassifier - Score: 1.0000\n",
      "Rank 2: GradientBoostingClassifier - Score: 1.0000\n",
      "Rank 3: LogisticRegression - Score: 0.9984\n",
      "\n",
      "\n",
      "\n",
      "Optimizing hyperparameters for model RandomForestClassifier\n"
     ]
    },
    {
     "name": "stderr",
     "output_type": "stream",
     "text": [
      "2023-08-02 12:41:00,794 [4624] WARNING  py.warnings:109: [JupyterRequire] C:\\Users\\guief\\anaconda3\\lib\\site-packages\\sklearn\\model_selection\\_search.py:969: UserWarning: One or more of the test scores are non-finite: [nan nan nan nan nan nan nan nan nan]\n",
      "  warnings.warn(\n",
      "\n"
     ]
    },
    {
     "name": "stdout",
     "output_type": "stream",
     "text": [
      "Best score for RandomForestClassifier: nan\n",
      "Optimizing hyperparameters for model GradientBoostingClassifier\n"
     ]
    },
    {
     "name": "stderr",
     "output_type": "stream",
     "text": [
      "2023-08-02 12:41:04,220 [4624] WARNING  py.warnings:109: [JupyterRequire] C:\\Users\\guief\\anaconda3\\lib\\site-packages\\sklearn\\model_selection\\_search.py:969: UserWarning: One or more of the test scores are non-finite: [nan nan nan nan nan nan nan nan nan]\n",
      "  warnings.warn(\n",
      "\n"
     ]
    },
    {
     "name": "stdout",
     "output_type": "stream",
     "text": [
      "Best score for GradientBoostingClassifier: nan\n",
      "Optimizing hyperparameters for model LogisticRegression\n"
     ]
    },
    {
     "name": "stderr",
     "output_type": "stream",
     "text": [
      "2023-08-02 12:41:04,558 [4624] WARNING  py.warnings:109: [JupyterRequire] C:\\Users\\guief\\anaconda3\\lib\\site-packages\\sklearn\\model_selection\\_search.py:969: UserWarning: One or more of the test scores are non-finite: [nan nan nan]\n",
      "  warnings.warn(\n",
      "\n"
     ]
    },
    {
     "name": "stdout",
     "output_type": "stream",
     "text": [
      "Best score for LogisticRegression: nan\n"
     ]
    },
    {
     "data": {
      "text/plain": [
       "ModelOptimization(models=[LogisticRegression(), RandomForestClassifier(),\n",
       "                          GradientBoostingClassifier()],\n",
       "                  param_grids=[{'C': [0.1, 1, 10]},\n",
       "                               {'max_depth': [None, 5, 10],\n",
       "                                'n_estimators': [50, 100, 150]},\n",
       "                               {'learning_rate': [0.1, 0.01, 0.001],\n",
       "                                'n_estimators': [50, 100, 150]}],\n",
       "                  scoring='roc_auc')"
      ]
     },
     "execution_count": 27,
     "metadata": {},
     "output_type": "execute_result"
    }
   ],
   "source": [
    "scoring = 'accuracy'\n",
    "model_comparison = ModelOptimization(models, param_grids, scoring)\n",
    "model_comparison.fit(X, y)\n",
    "\n",
    "# Or with a different scoring metric:\n",
    "scoring = 'roc_auc'\n",
    "model_comparison = ModelOptimization(models, param_grids, scoring)\n",
    "model_comparison.fit(X, y)"
   ]
  }
 ],
 "metadata": {
  "kernelspec": {
   "display_name": "Python 3 (ipykernel)",
   "language": "python",
   "name": "python3"
  },
  "language_info": {
   "codemirror_mode": {
    "name": "ipython",
    "version": 3
   },
   "file_extension": ".py",
   "mimetype": "text/x-python",
   "name": "python",
   "nbconvert_exporter": "python",
   "pygments_lexer": "ipython3",
   "version": "3.9.12"
  },
  "toc": {
   "base_numbering": 1,
   "nav_menu": {},
   "number_sections": true,
   "sideBar": true,
   "skip_h1_title": false,
   "title_cell": "Table of Contents",
   "title_sidebar": "Contents",
   "toc_cell": false,
   "toc_position": {},
   "toc_section_display": true,
   "toc_window_display": false
  }
 },
 "nbformat": 4,
 "nbformat_minor": 5
}
