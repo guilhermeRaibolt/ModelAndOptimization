{
 "cells": [
  {
   "cell_type": "code",
   "execution_count": 5,
   "id": "617b6e84",
   "metadata": {},
   "outputs": [
    {
     "name": "stdout",
     "output_type": "stream",
     "text": [
      "Fitting model 1/3: LogisticRegression\n",
      "Fitting model 2/3: RandomForestClassifier\n",
      "Fitting model 3/3: GradientBoostingClassifier\n",
      "\n",
      "Model ranking based on scores:\n",
      "Rank 1: RandomForestClassifier - Score: 1.0000\n",
      "Rank 2: GradientBoostingClassifier - Score: 0.9770\n",
      "Rank 3: LogisticRegression - Score: 0.8590\n",
      "\n",
      "\n",
      "\n",
      "Optimizing hyperparameters for model RandomForestClassifier\n",
      "Best score for RandomForestClassifier: 0.9130\n",
      "Params: {'max_depth': 10, 'n_estimators': 50}\n",
      "\n",
      "\n",
      "Optimizing hyperparameters for model GradientBoostingClassifier\n",
      "Best score for GradientBoostingClassifier: 0.9070\n",
      "Params: {'learning_rate': 0.01, 'n_estimators': 150}\n",
      "\n",
      "\n",
      "Optimizing hyperparameters for model LogisticRegression\n",
      "Best score for LogisticRegression: 0.8580\n",
      "Params: {'C': 0.1}\n",
      "\n",
      "\n",
      "Predictions for RandomForestClassifier:\n",
      "[1 1 1 1 1 1 1 0 1 0 1 1 1 1 1 0 1 0 1 1 1 1 0 1 0 1 0 1 1 1 1 1 0 1 1 0 0\n",
      " 1 0 0 0 0 1 1 1 0 1 0 0 1 0 0 1 1 1 0 0 1 1 0 1 1 0 0 1 1 1 1 1 0 1 0 0 1\n",
      " 1 1 0 1 0 1 0 1 0 0 1 1 1 1 0 0 0 1 1 1 1 1 1 0 0 1]\n",
      "\n",
      "Predictions for GradientBoostingClassifier:\n",
      "[1 1 1 1 1 1 1 0 1 0 0 1 1 1 1 0 1 0 1 1 1 1 1 1 0 1 0 1 1 1 1 1 1 1 1 0 1\n",
      " 1 0 0 0 0 1 1 1 0 1 0 0 0 0 0 1 1 1 0 0 1 1 0 1 1 0 0 1 1 1 1 1 0 1 0 0 1\n",
      " 1 1 0 1 0 1 0 1 0 0 1 1 1 1 0 0 0 1 1 1 1 1 1 0 1 1]\n",
      "\n",
      "Predictions for LogisticRegression:\n",
      "[1 1 1 1 1 1 1 0 1 0 1 1 1 1 1 1 0 0 1 1 0 1 0 1 1 1 0 1 1 1 1 1 1 1 1 0 0\n",
      " 0 1 0 0 0 1 1 1 0 1 0 0 1 0 0 1 1 1 1 0 0 1 0 0 1 0 0 1 1 1 1 1 0 1 0 0 1\n",
      " 0 1 1 0 0 0 1 1 0 0 1 0 1 1 0 0 0 1 0 1 1 1 1 0 0 1]\n",
      "\n"
     ]
    }
   ],
   "source": [
    "%run Model_And_Optimization.ipynb\n",
    "\n",
    "\n",
    "import numpy as np\n",
    "import pandas as pd\n",
    "from sklearn.datasets import make_classification\n",
    "from sklearn.linear_model import LogisticRegression\n",
    "from sklearn.ensemble import RandomForestClassifier, GradientBoostingClassifier\n",
    "\n",
    "X, y = make_classification(n_samples=1000, n_features=10, random_state=42)\n",
    "\n",
    "# Define models and parameter grids\n",
    "models = [LogisticRegression(), RandomForestClassifier(), GradientBoostingClassifier()]\n",
    "\n",
    "param_grids = [\n",
    "    {'C': [0.1, 1, 10]},  # Parameter grid for LogisticRegression\n",
    "    {'max_depth': [None, 5, 10], 'n_estimators': [50, 100, 150]},  # Parameter grid for RandomForestClassifier\n",
    "    {'learning_rate': [0.1, 0.01, 0.001], 'n_estimators': [50, 100, 150]}  # Parameter grid for GradientBoostingClassifier\n",
    "]\n",
    "\n",
    "# Example: Use the ModelOptimization class to optimize models with roc_auc scoring\n",
    "scoring = 'accuracy'\n",
    "model_comparison = ModelOptimization(models, param_grids, scoring, cv=5, top_n=3)\n",
    "model_comparison.fit(X, y)\n",
    "\n",
    "# Make predictions using the best models\n",
    "X_test, y_test = make_classification(n_samples=100, n_features=10, random_state=42)\n",
    "predictions = model_comparison.predict(X_test)\n",
    "\n",
    "# Print the predictions for each model\n",
    "for model_name, y_pred in predictions.items():\n",
    "    print(f\"Predictions for {model_name}:\\n{y_pred}\\n\")\n",
    "    "
   ]
  }
 ],
 "metadata": {
  "kernelspec": {
   "display_name": "Python 3 (ipykernel)",
   "language": "python",
   "name": "python3"
  },
  "language_info": {
   "codemirror_mode": {
    "name": "ipython",
    "version": 3
   },
   "file_extension": ".py",
   "mimetype": "text/x-python",
   "name": "python",
   "nbconvert_exporter": "python",
   "pygments_lexer": "ipython3",
   "version": "3.9.12"
  },
  "toc": {
   "base_numbering": 1,
   "nav_menu": {},
   "number_sections": true,
   "sideBar": true,
   "skip_h1_title": false,
   "title_cell": "Table of Contents",
   "title_sidebar": "Contents",
   "toc_cell": false,
   "toc_position": {},
   "toc_section_display": true,
   "toc_window_display": false
  }
 },
 "nbformat": 4,
 "nbformat_minor": 5
}
